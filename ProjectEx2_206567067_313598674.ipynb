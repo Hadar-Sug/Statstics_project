{
 "cells": [
  {
   "cell_type": "markdown",
   "source": [
    "# Part 1 - estimation"
   ],
   "metadata": {
    "collapsed": false,
    "pycharm": {
     "name": "#%% md\n"
    }
   }
  },
  {
   "cell_type": "code",
   "execution_count": 32,
   "outputs": [],
   "source": [
    "import matplotlib.pyplot as plt\n",
    "import pandas as pd\n",
    "import numpy as np\n",
    "import seaborn as sns\n",
    "from scipy import stats"
   ],
   "metadata": {
    "collapsed": false,
    "pycharm": {
     "name": "#%%\n"
    }
   }
  },
  {
   "cell_type": "code",
   "execution_count": 7,
   "outputs": [
    {
     "name": "stdout",
     "output_type": "stream",
     "text": [
      "average weight of smokers and non-smokers:\n",
      "Smoking_History\n",
      "No     82.665153\n",
      "Yes    84.695707\n",
      "Name: Weight_(kg), dtype: float64\n"
     ]
    }
   ],
   "source": [
    "df = pd.read_csv(\"CVD_cleaned.csv\")\n",
    "print(\"average weight of smokers and non-smokers:\")\n",
    "print(df.groupby('Smoking_History')['Weight_(kg)'].mean())"
   ],
   "metadata": {
    "collapsed": false,
    "pycharm": {
     "name": "#%%\n"
    }
   }
  },
  {
   "cell_type": "code",
   "execution_count": 34,
   "outputs": [],
   "source": [
    "def calc_CI(avg_non_smokers_,avg_smokers_,se_non_smokers_,se_smokers_):\n",
    "    # calculating the confidence intervals\n",
    "    CI_non_smokers = [avg_non_smokers_ - 2*se_non_smokers_, avg_non_smokers_+2*se_non_smokers_]\n",
    "    CI_smokers = [avg_smokers_-2*se_smokers_, avg_smokers_+2*se_smokers_]\n",
    "    return {'CI_smokers': CI_smokers, 'CI_non_smokers':CI_non_smokers}"
   ],
   "metadata": {
    "collapsed": false,
    "pycharm": {
     "name": "#%%\n"
    }
   }
  },
  {
   "cell_type": "code",
   "execution_count": 94,
   "outputs": [],
   "source": [
    "def part_1():\n",
    "    #filtering\n",
    "    smokers_df = df[df[\"Smoking_History\"] == 'Yes']['Weight_(kg)']\n",
    "    non_smokers_df = df[df[\"Smoking_History\"] == 'No']['Weight_(kg)']\n",
    "    # getting n\n",
    "    n_non_smokers = len(non_smokers_df)\n",
    "    n_smokers = len(smokers_df)\n",
    "    # using biased estimator for the variance\n",
    "    non_smokers_sample_variance =non_smokers_df.var(ddof=0)\n",
    "    smokers_sample_variance =smokers_df.var(ddof=0)\n",
    "    se_non_smokers = ((1/n_non_smokers)*non_smokers_sample_variance)**0.5\n",
    "    se_smokers = ((1/n_smokers)*smokers_sample_variance)**0.5\n",
    "    # getting the average per group\n",
    "    avg_non_smokers = non_smokers_df.mean()\n",
    "    avg_smokers = smokers_df.mean()\n",
    "    interval = calc_CI(avg_non_smokers,avg_smokers,se_non_smokers,se_smokers)\n",
    "    print(f\"confidence intervals for smokers:{interval['CI_smokers']}\")\n",
    "    print(f\"confidence intervals for non smokers:{interval['CI_non_smokers']}\\n\")"
   ],
   "metadata": {
    "collapsed": false,
    "pycharm": {
     "name": "#%%\n"
    }
   }
  },
  {
   "cell_type": "code",
   "execution_count": 95,
   "outputs": [
    {
     "name": "stdout",
     "output_type": "stream",
     "text": [
      "confidence intervals for smokers:[84.5725186413171, 84.81889517427099]\n",
      "confidence intervals for non smokers:[82.56503785201866, 82.76526821027593]\n",
      "\n"
     ]
    }
   ],
   "source": [
    "part_1()"
   ],
   "metadata": {
    "collapsed": false,
    "pycharm": {
     "name": "#%%\n"
    }
   }
  },
  {
   "cell_type": "markdown",
   "source": [
    "we know that the MLE of the mean is the sample mean which is asymptotically normal, hence the assumption is valid.\n",
    "the confidence intervals we got are not overlapping, meaning we can say with 95 percent certainty that there is a\n",
    "difference between the mean weight of smokers and non-smokers."
   ],
   "metadata": {
    "collapsed": false,
    "pycharm": {
     "name": "#%% md\n"
    }
   }
  },
  {
   "cell_type": "markdown",
   "source": [
    "# part 3 - Different Sample Sizes"
   ],
   "metadata": {
    "collapsed": false,
    "pycharm": {
     "name": "#%% md\n"
    }
   }
  },
  {
   "cell_type": "markdown",
   "source": [
    "## part 3 - a,b,c"
   ],
   "metadata": {
    "collapsed": false,
    "pycharm": {
     "name": "#%% md\n"
    }
   }
  },
  {
   "cell_type": "code",
   "execution_count": 98,
   "outputs": [],
   "source": [
    "def parts_abc(smokers_mean, non_smokers_mean, part_d=False):\n",
    "    \"\"\"\n",
    "    Perform statistical analysis for parts A, B, and C, and optionally D.\n",
    "\n",
    "    Parameters:\n",
    "    smokers_mean (float): Expected mean weight for smokers.\n",
    "    non_smokers_mean (float): Expected mean weight for non-smokers.\n",
    "    part_d (bool, optional): If True, include Part D analysis. Default is False.\n",
    "\n",
    "    Returns:\n",
    "    None\n",
    "\n",
    "    This function performs statistical analysis for parts A, B, and C of the problem,\n",
    "    and optionally for Part D if specified. It calculates confidence intervals,\n",
    "    performs Wald hypothesis tests, and analyzes the percentage of intervals\n",
    "    containing the expected means.\n",
    "\n",
    "    Parameters:\n",
    "    - smokers_mean: Expected mean weight for smokers.\n",
    "    - non_smokers_mean: Expected mean weight for non-smokers.\n",
    "    - part_d: Boolean indicating whether to include Part D analysis (optional).\n",
    "\n",
    "    For each sample size in 'sizes':\n",
    "    - Generate intervals and p-values for smokers and non-smokers.\n",
    "    - Calculate the percentage of intervals containing the expected means.\n",
    "\n",
    "    If 'part_d' is True:\n",
    "    - Plot the intervals' widths and p-values.\n",
    "    - Print the percentage of intervals containing the expected means for both groups.\n",
    "\n",
    "    Example usage:\n",
    "    parts_abc(70, 65, part_d=True)\n",
    "    \"\"\"\n",
    "\n",
    "    np.random.seed(42)\n",
    "    sizes = [30, 50, 100, 500]\n",
    "    intervals = {size: {'smokers': [], 'non_smokers': []} for size in sizes}\n",
    "    p_vals = {size: [] for size in sizes}\n",
    "    within_interval = {'smokers': 0, 'non_smokers': 0}\n",
    "    rounds = 100 if part_d else 1\n",
    "\n",
    "    for size in sizes:\n",
    "        for _ in range(rounds):\n",
    "            sample = df.sample(n=size)\n",
    "            # Filtering\n",
    "            smokers_df = sample[sample[\"Smoking_History\"] == 'Yes']['Weight_(kg)']\n",
    "            non_smokers_df = sample[sample[\"Smoking_History\"] == 'No']['Weight_(kg)']\n",
    "\n",
    "            # Getting sample sizes\n",
    "            n_non_smokers = len(non_smokers_df)\n",
    "            n_smokers = len(smokers_df)\n",
    "\n",
    "            # Using biased estimator for the variance\n",
    "            non_smokers_sample_variance = non_smokers_df.var(ddof=0)\n",
    "            smokers_sample_variance = smokers_df.var(ddof=0)\n",
    "            se_non_smokers = ((1/n_non_smokers) * non_smokers_sample_variance)**0.5\n",
    "            se_smokers = ((1/n_smokers) * smokers_sample_variance)**0.5\n",
    "\n",
    "            # Getting the average per group\n",
    "            avg_non_smokers = non_smokers_df.mean()\n",
    "            avg_smokers = smokers_df.mean()\n",
    "\n",
    "            # Calculate confidence intervals\n",
    "            interval = calc_CI(avg_non_smokers, avg_smokers, se_non_smokers, se_smokers)\n",
    "\n",
    "            # Calculate Wald standard error and p-value\n",
    "            wald_se_hat = (smokers_sample_variance/n_smokers + non_smokers_sample_variance/n_non_smokers)**0.5\n",
    "            if part_d:\n",
    "                P_val = wald_test(avg_smokers - avg_non_smokers, 0, wald_se_hat,verbose=False)\n",
    "            else:\n",
    "                P_val = wald_test(avg_smokers - avg_non_smokers, 0, wald_se_hat)\n",
    "                print(f\"Intervals for sample size: {size}\")\n",
    "                print(f\"Confidence intervals for smokers: {interval['CI_smokers']}\")\n",
    "                print(f\"Confidence intervals for non-smokers: {interval['CI_non_smokers']}\\n\")\n",
    "\n",
    "            # Update intervals and p-values (Part D)\n",
    "            if part_d:\n",
    "                intervals[size]['smokers'].append(interval['CI_smokers'][1] - interval['CI_smokers'][0])\n",
    "                intervals[size]['non_smokers'].append(interval['CI_non_smokers'][1] - interval['CI_non_smokers'][0])\n",
    "                p_vals[size].append(P_val)\n",
    "\n",
    "            # Check if expected means are within intervals\n",
    "            if number_in_interval(smokers_mean, interval['CI_smokers']):\n",
    "                within_interval['smokers'] += 1\n",
    "            if number_in_interval(non_smokers_mean, interval['CI_non_smokers']):\n",
    "                within_interval['non_smokers'] += 1\n",
    "\n",
    "    # Perform Part D analysis if specified\n",
    "    if part_d:\n",
    "        plot_intervals(intervals, sizes)\n",
    "        plot_P_val(p_vals, sizes)\n",
    "        print(f\"Percentage of intervals that the smokers average was within the interval: {within_interval['smokers'] * 0.25}%\")\n",
    "        print(f\"Percentage of intervals that the non-smokers average was within the interval: {within_interval['non_smokers'] * 0.25}%\")"
   ],
   "metadata": {
    "collapsed": false,
    "pycharm": {
     "name": "#%%\n"
    }
   }
  },
  {
   "cell_type": "code",
   "execution_count": 70,
   "outputs": [],
   "source": [
    "def wald_test(theta_hat,theta_0,se_hat,verbose = True):\n",
    "    \"\"\"\n",
    "    Perform a Wald hypothesis test.\n",
    "\n",
    "    Parameters:\n",
    "    theta_hat (float): Estimated parameter value.\n",
    "    theta_0 (float): Null hypothesis value to be tested.\n",
    "    se_hat (float): Standard error estimate of the parameter.\n",
    "    verbose (bool, optional): If True, print test details. Default is True.\n",
    "\n",
    "    Returns:\n",
    "    float: Two-sided p-value for the Wald test.\n",
    "    \"\"\"\n",
    "    T = theta_hat - theta_0 / se_hat\n",
    "    W_test_quantile = stats.norm.ppf(0.975)\n",
    "    P_val = 2*stats.norm.cdf(-abs(T))\n",
    "    if verbose:\n",
    "        print(\"Wald Test with alpha = 0.05\")\n",
    "        print(f\"H0: theta = {theta_0}\")\n",
    "        print(f\"H1: theta != {theta_0}\")\n",
    "        print(f\"Test statistic: {T:.5f}\")\n",
    "        print(f\"{abs(T)} > ? {W_test_quantile}\")\n",
    "        print(f\"Rejected: {abs(T)>W_test_quantile}\")\n",
    "        print(f\"P value: {P_val:.5f}\\n\\n\")\n",
    "    return P_val"
   ],
   "metadata": {
    "collapsed": false,
    "pycharm": {
     "name": "#%%\n"
    }
   }
  },
  {
   "cell_type": "code",
   "execution_count": 102,
   "outputs": [],
   "source": [
    "def plot_intervals(intervals,sizes):\n",
    "    \"\"\"\n",
    "    Plot histograms of interval widths for smokers and non-smokers.\n",
    "\n",
    "    Parameters:\n",
    "    intervals (dict): A dictionary containing interval widths for each sample size.\n",
    "                      Expected structure: {size: {'smokers': [...], 'non_smokers': [...]}, ...}\n",
    "    sizes (list): List of sample sizes.\n",
    "\n",
    "    Returns:\n",
    "    None\n",
    "\n",
    "    This function creates a grid of histograms to visualize the distribution of interval\n",
    "    widths for smokers and non-smokers at different sample sizes.\n",
    "\n",
    "    Parameters:\n",
    "    - intervals: A dictionary containing interval widths for each sample size.\n",
    "    - sizes: List of sample sizes.\n",
    "\n",
    "    The function generates histograms for both smokers and non-smokers, displaying the\n",
    "    distribution of interval widths for each sample size. Each histogram represents a\n",
    "    different sample size and is displayed side by side.\n",
    "\n",
    "    Example usage:\n",
    "    plot_intervals(intervals, [30, 50, 100, 500])\n",
    "    \"\"\"\n",
    "    # Create subplots for each size with two histograms side by side\n",
    "    fig, axes = plt.subplots(len(sizes), 2, figsize=(12, 8))\n",
    "\n",
    "    # Loop through sizes and create subplots\n",
    "    for i, size in enumerate(sizes):\n",
    "        ax1 = axes[i, 0]\n",
    "        ax2 = axes[i, 1]\n",
    "\n",
    "        # Plot histogram for smokers\n",
    "        ax1.hist(intervals[size]['smokers'], bins=20, alpha=0.5, color='royalblue', label='Smokers')\n",
    "        ax1.set_title(f'Size: {size}')\n",
    "        ax1.set_xlabel('Interval Size')\n",
    "        ax1.set_ylabel('Frequency')\n",
    "        ax1.legend()\n",
    "\n",
    "        # Plot histogram for non-smokers\n",
    "        ax2.hist(intervals[size]['non_smokers'], bins=20, alpha=0.5, color='orange', label='Non-Smokers')\n",
    "        ax2.set_title(f'Size: {size}')\n",
    "        ax2.set_xlabel('Interval Size')\n",
    "        ax2.set_ylabel('Frequency')\n",
    "        ax2.legend()\n",
    "\n",
    "    # Adjust layout and display the plots\n",
    "    plt.tight_layout()\n",
    "    plt.show()\n"
   ],
   "metadata": {
    "collapsed": false,
    "pycharm": {
     "name": "#%%\n"
    }
   }
  },
  {
   "cell_type": "code",
   "execution_count": 66,
   "outputs": [],
   "source": [
    "def number_in_interval(number, interval):\n",
    "    \"\"\"\n",
    "    Check if a number falls within a specified interval.\n",
    "\n",
    "    Parameters:\n",
    "    number (float): The number to be checked.\n",
    "    interval (tuple): A tuple containing the lower and upper bounds of the interval.\n",
    "\n",
    "    Returns:\n",
    "    bool: True if the number is within the interval, False otherwise.\n",
    "    \"\"\"\n",
    "    interval_start, interval_end = interval\n",
    "    return interval_start <= number <= interval_end"
   ],
   "metadata": {
    "collapsed": false,
    "pycharm": {
     "name": "#%%\n"
    }
   }
  },
  {
   "cell_type": "code",
   "execution_count": 60,
   "outputs": [],
   "source": [
    "def plot_P_val(p_vals,sizes):\n",
    "    \"\"\"\n",
    "    Plot histograms of p-values distribution for different sample sizes.\n",
    "\n",
    "    Parameters:\n",
    "    p_vals (dict): A dictionary containing p-values for each sample size.\n",
    "                   Expected structure: {size: [...], ...}\n",
    "    sizes (list): List of sample sizes.\n",
    "\n",
    "    Returns:\n",
    "    None\n",
    "\n",
    "    This function creates a grid of histograms to visualize the distribution of p-values\n",
    "    for different sample sizes.\n",
    "\n",
    "    Parameters:\n",
    "    - p_vals: A dictionary containing p-values for each sample size.\n",
    "    - sizes: List of sample sizes.\n",
    "\n",
    "    The function generates histograms representing the distribution of p-values for each\n",
    "    sample size. Each histogram represents a different sample size and is displayed side by side.\n",
    "\n",
    "    Example usage:\n",
    "    plot_P_val(p_vals, [30, 50, 100, 500])\n",
    "    \"\"\"\n",
    "    # Calculate grid dimensions\n",
    "    num_rows = 2\n",
    "    num_cols = 2\n",
    "\n",
    "    # Create a grid of plots\n",
    "    fig, axes = plt.subplots(num_rows, num_cols, figsize=(12, 8))\n",
    "\n",
    "    # Flatten the axes array to iterate over all subplots\n",
    "    axes = axes.flatten()\n",
    "\n",
    "    # Loop through sizes and create plots\n",
    "    for i, size in enumerate(sizes):\n",
    "        ax = axes[i]\n",
    "        ax.hist(p_vals[size], bins=20, alpha=0.7, color='green')\n",
    "        ax.set_title(f'P-Values Distribution (Size: {size})')\n",
    "        ax.set_xlabel('P-Value')\n",
    "        ax.set_ylabel('Frequency')\n",
    "        ax.grid(True)\n",
    "\n",
    "    # Adjust layout and display the plots\n",
    "    plt.tight_layout()\n",
    "    plt.show()\n"
   ],
   "metadata": {
    "collapsed": false,
    "pycharm": {
     "name": "#%%\n"
    }
   }
  },
  {
   "cell_type": "code",
   "execution_count": 93,
   "outputs": [
    {
     "name": "stdout",
     "output_type": "stream",
     "text": [
      "Intervals for sample size: 30\n",
      "Confidence intervals for smokers: [68.60700100976203, 90.42992206716104]\n",
      "Confidence intervals for non-smokers: [68.29149438750295, 91.10615267132059]\n",
      "\n",
      "Wald Test with alpha = 0.05\n",
      "H0: theta = 0\n",
      "H1: theta != 0\n",
      "Test statistic: -0.18036\n",
      "0.18036199095023164 > ? 1.959963984540054\n",
      "Rejected: False\n",
      "P value: 0.85687\n",
      "\n",
      "\n",
      "Intervals for sample size: 50\n",
      "Confidence intervals for smokers: [78.8947751754022, 91.57522482459783]\n",
      "Confidence intervals for non-smokers: [73.8658326552762, 90.72131020186666]\n",
      "\n",
      "Wald Test with alpha = 0.05\n",
      "H0: theta = 0\n",
      "H1: theta != 0\n",
      "Test statistic: 2.94143\n",
      "2.941428571428588 > ? 1.959963984540054\n",
      "Rejected: True\n",
      "P value: 0.00327\n",
      "\n",
      "\n",
      "Intervals for sample size: 100\n",
      "Confidence intervals for smokers: [75.24090799579916, 88.28259200420085]\n",
      "Confidence intervals for non-smokers: [76.22315686816673, 87.43217646516653]\n",
      "\n",
      "Wald Test with alpha = 0.05\n",
      "H0: theta = 0\n",
      "H1: theta != 0\n",
      "Test statistic: -0.06592\n",
      "0.06591666666662377 > ? 1.959963984540054\n",
      "Rejected: False\n",
      "P value: 0.94744\n",
      "\n",
      "\n",
      "Intervals for sample size: 500\n",
      "Confidence intervals for smokers: [81.60310698649454, 87.8378232460636]\n",
      "Confidence intervals for non-smokers: [79.01715852016869, 83.9532976201825]\n",
      "\n",
      "Wald Test with alpha = 0.05\n",
      "H0: theta = 0\n",
      "H1: theta != 0\n",
      "Test statistic: 3.23524\n",
      "3.235237046103478 > ? 1.959963984540054\n",
      "Rejected: True\n",
      "P value: 0.00122\n",
      "\n",
      "\n"
     ]
    }
   ],
   "source": [
    "non_smokers_avg = df[df[\"Smoking_History\"] == 'No']['Weight_(kg)'].mean()\n",
    "smokers_avg = df[df[\"Smoking_History\"] == 'Yes']['Weight_(kg)'].mean()\n",
    "parts_abc(smokers_avg,non_smokers_avg)"
   ],
   "metadata": {
    "collapsed": false,
    "pycharm": {
     "name": "#%%\n"
    }
   }
  },
  {
   "cell_type": "markdown",
   "source": [
    "we can notice that the confidence intervals are much larger with smaller sample sizes, but we seem to begin\n",
    "converging as the sample sizes increase"
   ],
   "metadata": {
    "collapsed": false,
    "pycharm": {
     "name": "#%% md\n"
    }
   }
  },
  {
   "cell_type": "markdown",
   "source": [
    "## part 3 - d"
   ],
   "metadata": {
    "collapsed": false,
    "pycharm": {
     "name": "#%% md\n"
    }
   }
  },
  {
   "cell_type": "code",
   "execution_count": 103,
   "outputs": [
    {
     "data": {
      "text/plain": "<Figure size 864x576 with 8 Axes>",
      "image/png": "[encoded data removed]"
     },
     "metadata": {},
     "output_type": "display_data"
    },
    {
     "data": {
      "text/plain": "<Figure size 864x576 with 4 Axes>",
      "image/png": "[encoded data removed]"
     },
     "metadata": {},
     "output_type": "display_data"
    },
    {
     "name": "stdout",
     "output_type": "stream",
     "text": [
      "Percentage of intervals that the smokers average was within the interval: 90.5%\n",
      "Percentage of intervals that the non-smokers average was within the interval: 94.5%\n"
     ]
    }
   ],
   "source": [
    "parts_abc(smokers_avg,non_smokers_avg,part_d=True)"
   ],
   "metadata": {
    "collapsed": false,
    "pycharm": {
     "name": "#%%\n"
    }
   }
  },
  {
   "cell_type": "markdown",
   "source": [
    "### Conclusions"
   ],
   "metadata": {
    "collapsed": false,
    "pycharm": {
     "name": "#%% md\n"
    }
   }
  },
  {
   "cell_type": "markdown",
   "source": [
    "we can notice that the confidence intervals are much larger with smaller sample sizes, and in most cases, we can\n",
    "reject the null hypothesis with at least 95% certainty"
   ],
   "metadata": {
    "collapsed": false,
    "pycharm": {
     "name": "#%% md\n"
    }
   }
  }
 ],
 "metadata": {
  "kernelspec": {
   "display_name": "Python 3",
   "language": "python",
   "name": "python3"
  },
  "language_info": {
   "codemirror_mode": {
    "name": "ipython",
    "version": 2
   },
   "file_extension": ".py",
   "mimetype": "text/x-python",
   "name": "python",
   "nbconvert_exporter": "python",
   "pygments_lexer": "ipython2",
   "version": "2.7.6"
  }
 },
 "nbformat": 4,
 "nbformat_minor": 0
}