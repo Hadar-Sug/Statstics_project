{
 "cells": [
  {
   "cell_type": "markdown",
   "source": [
    "# Part 1 - estimation"
   ],
   "metadata": {
    "collapsed": false,
    "pycharm": {
     "name": "#%% md\n"
    }
   }
  },
  {
   "cell_type": "code",
   "execution_count": 125,
   "outputs": [],
   "source": [
    "import matplotlib.pyplot as plt\n",
    "import pandas as pd\n",
    "import numpy as np\n",
    "import seaborn as sns\n",
    "from scipy import stats\n",
    "from scipy.stats import norm"
   ],
   "metadata": {
    "collapsed": false,
    "pycharm": {
     "name": "#%%\n"
    },
    "ExecuteTime": {
     "end_time": "2023-08-17T13:46:47.541412173Z",
     "start_time": "2023-08-17T13:46:47.515543151Z"
    }
   }
  },
  {
   "cell_type": "code",
   "execution_count": 105,
   "outputs": [
    {
     "name": "stdout",
     "output_type": "stream",
     "text": [
      "average weight of smokers and non-smokers:\n",
      "Smoking_History\n",
      "No     82.665153\n",
      "Yes    84.695707\n",
      "Name: Weight_(kg), dtype: float64\n"
     ]
    }
   ],
   "source": [
    "df = pd.read_csv(\"CVD_cleaned.csv\")\n",
    "print(\"average weight of smokers and non-smokers:\")\n",
    "print(df.groupby('Smoking_History')['Weight_(kg)'].mean())"
   ],
   "metadata": {
    "collapsed": false,
    "pycharm": {
     "name": "#%%\n"
    },
    "ExecuteTime": {
     "end_time": "2023-08-17T13:46:48.059333683Z",
     "start_time": "2023-08-17T13:46:47.636738220Z"
    }
   }
  },
  {
   "cell_type": "code",
   "execution_count": 106,
   "outputs": [],
   "source": [
    "def calc_CI(avg_non_smokers_,avg_smokers_,se_non_smokers_,se_smokers_):\n",
    "    # calculating the confidence intervals\n",
    "    CI_non_smokers = [avg_non_smokers_ - 2*se_non_smokers_, avg_non_smokers_+2*se_non_smokers_]\n",
    "    CI_smokers = [avg_smokers_-2*se_smokers_, avg_smokers_+2*se_smokers_]\n",
    "    return {'CI_smokers': CI_smokers, 'CI_non_smokers':CI_non_smokers}"
   ],
   "metadata": {
    "collapsed": false,
    "pycharm": {
     "name": "#%%\n"
    },
    "ExecuteTime": {
     "end_time": "2023-08-17T13:46:48.059661797Z",
     "start_time": "2023-08-17T13:46:48.023362417Z"
    }
   }
  },
  {
   "cell_type": "code",
   "execution_count": 107,
   "outputs": [],
   "source": [
    "def part_1():\n",
    "    #filtering\n",
    "    smokers_df = df[df[\"Smoking_History\"] == 'Yes']['Weight_(kg)']\n",
    "    non_smokers_df = df[df[\"Smoking_History\"] == 'No']['Weight_(kg)']\n",
    "    # getting n\n",
    "    n_non_smokers = len(non_smokers_df)\n",
    "    n_smokers = len(smokers_df)\n",
    "    # using biased estimator for the variance\n",
    "    non_smokers_sample_variance =non_smokers_df.var(ddof=0)\n",
    "    smokers_sample_variance =smokers_df.var(ddof=0)\n",
    "    se_non_smokers = ((1/n_non_smokers)*non_smokers_sample_variance)**0.5\n",
    "    se_smokers = ((1/n_smokers)*smokers_sample_variance)**0.5\n",
    "    # getting the average per group\n",
    "    avg_non_smokers = non_smokers_df.mean()\n",
    "    avg_smokers = smokers_df.mean()\n",
    "    interval = calc_CI(avg_non_smokers,avg_smokers,se_non_smokers,se_smokers)\n",
    "    print(f\"confidence intervals for smokers:{interval['CI_smokers']}\")\n",
    "    print(f\"confidence intervals for non smokers:{interval['CI_non_smokers']}\\n\")"
   ],
   "metadata": {
    "collapsed": false,
    "pycharm": {
     "name": "#%%\n"
    },
    "ExecuteTime": {
     "end_time": "2023-08-17T13:46:48.060025111Z",
     "start_time": "2023-08-17T13:46:48.028901449Z"
    }
   }
  },
  {
   "cell_type": "code",
   "execution_count": 108,
   "outputs": [
    {
     "name": "stdout",
     "output_type": "stream",
     "text": [
      "confidence intervals for smokers:[84.5725186413171, 84.81889517427099]\n",
      "confidence intervals for non smokers:[82.56503785201866, 82.76526821027593]\n",
      "\n"
     ]
    }
   ],
   "source": [
    "part_1()"
   ],
   "metadata": {
    "collapsed": false,
    "pycharm": {
     "name": "#%%\n"
    },
    "ExecuteTime": {
     "end_time": "2023-08-17T13:46:48.136905551Z",
     "start_time": "2023-08-17T13:46:48.068830403Z"
    }
   }
  },
  {
   "cell_type": "markdown",
   "source": [
    "we know that the MLE of the mean is the sample mean which is asymptotically normal, hence the assumption is valid.\n",
    "the confidence intervals we got are not overlapping, meaning we can say with 95 percent certainty that there is a\n",
    "difference between the mean weight of smokers and non-smokers."
   ],
   "metadata": {
    "collapsed": false,
    "pycharm": {
     "name": "#%% md\n"
    }
   }
  },
  {
   "cell_type": "markdown",
   "source": [
    "# Part 2 - Hypothesis Tests"
   ],
   "metadata": {
    "collapsed": false,
    "pycharm": {
     "name": "#%% md\n"
    }
   }
  },
  {
   "cell_type": "markdown",
   "source": [
    "## Part 2a - The Hypothesis:"
   ],
   "metadata": {
    "collapsed": false,
    "pycharm": {
     "name": "#%% md\n"
    }
   }
  },
  {
   "cell_type": "markdown",
   "source": [
    "### Null Hypothesis (H0):\n",
    "##### There is no difference between the weight of smokers and nonsmokers.<br/>\n",
    "\n",
    "### Alternative Hypothesis (H1):\n",
    "##### There is a difference between the weight of smokers and nonsmokers."
   ],
   "metadata": {
    "collapsed": false,
    "pycharm": {
     "name": "#%% md\n"
    }
   }
  },
  {
   "cell_type": "markdown",
   "source": [
    "## Part 2b - The Assumptions:\n",
    "\n",
    "### We need to check if the following assumptions are met in order to preform an independent T-test:\n",
    "\n",
    "1. The measurement scale used for such hypothesis testing follows a set of continuous or ordinal patterns. -> we checked it in the previous assigment.\n",
    "2. The tests are completely based on random sampling. -> we were given a real data which was collected randomly.\n",
    "3. When the data is plotted with respect to the T-test distribution, it should follow a normal distribution. -> lets check it.\n",
    "4. The variance should be such that the standard deviations of the samples are almost equal. -> lets check it."
   ],
   "metadata": {
    "collapsed": false,
    "pycharm": {
     "name": "#%% md\n"
    }
   }
  },
  {
   "cell_type": "markdown",
   "source": [
    "### Let's see if Assumption #3 is met:"
   ],
   "metadata": {
    "collapsed": false,
    "pycharm": {
     "name": "#%% md\n"
    }
   }
  },
  {
   "cell_type": "code",
   "execution_count": 109,
   "outputs": [],
   "source": [
    "smokers_df = df[df[\"Smoking_History\"] == 'Yes']['Weight_(kg)']\n",
    "non_smokers_df = df[df[\"Smoking_History\"] == 'No']['Weight_(kg)']"
   ],
   "metadata": {
    "collapsed": false,
    "pycharm": {
     "name": "#%%\n"
    }
   }
  },
  {
   "cell_type": "code",
   "execution_count": 128,
   "outputs": [],
   "source": [
    "def plot_histogram(data, bins=10, title=None, xlabel=None, ylabel=None, show_function=False):\n",
    "    \"\"\"\n",
    "    Plot a histogram of a specific column data.\n",
    "\n",
    "    Parameters:\n",
    "    - data (DataFrame or Series): The input data to be plotted.\n",
    "    - bins (int): Number of bins for the histogram (default is 10).\n",
    "    - title (str): Title for the plot (default is None).\n",
    "    - xlabel (str): Label for the x-axis (default is None).\n",
    "    - ylabel (str): Label for the y-axis (default is None).\n",
    "    - show_function (bool): Whether to show the underlying function (default is False).\n",
    "    \"\"\"\n",
    "    if isinstance(data, pd.Series):\n",
    "        data = data.to_frame()\n",
    "    elif not isinstance(data, pd.DataFrame) or data.shape[1] != 1:\n",
    "        raise ValueError(\"Input data must be a single-column DataFrame or a Series.\")\n",
    "\n",
    "    column_name = data.columns[0]\n",
    "\n",
    "    plt.figure(figsize=(6, 4))\n",
    "    plt.hist(data[column_name], bins=bins, edgecolor='black', density=True)  # Density=True for normalized histogram\n",
    "\n",
    "    if show_function:\n",
    "        # Generate PDF values for the given data and parameters\n",
    "        mu, std = norm.fit(data[column_name])\n",
    "        xmin, xmax = plt.xlim()\n",
    "        x = np.linspace(xmin, xmax, 100)\n",
    "        p = norm.pdf(x, mu, std)\n",
    "        plt.plot(x, p, 'r', linewidth=2)\n",
    "\n",
    "    if title:\n",
    "        plt.title(title)\n",
    "    if xlabel:\n",
    "        plt.xlabel(xlabel)\n",
    "    if ylabel:\n",
    "        plt.ylabel(ylabel)\n",
    "\n",
    "    plt.grid(True)\n",
    "    plt.show()\n"
   ],
   "metadata": {
    "collapsed": false,
    "pycharm": {
     "name": "#%%\n"
    }
   }
  },
  {
   "cell_type": "code",
   "execution_count": 129,
   "outputs": [
    {
     "data": {
      "text/plain": "<Figure size 432x288 with 1 Axes>",
      "image/png": "[encoded data removed]"
     },
     "metadata": {},
     "output_type": "display_data"
    },
    {
     "data": {
      "text/plain": "<Figure size 432x288 with 1 Axes>",
      "image/png": "[encoded data removed]"
     },
     "metadata": {},
     "output_type": "display_data"
    }
   ],
   "source": [
    "plot_histogram(smokers_df,50,\"Smokers histogram\",'Weight_(kg)','Amount',show_function=True)\n",
    "plot_histogram(smokers_df,50,\"Non smokers histogram\",'Weight_(kg)','Amount',show_function=True)"
   ],
   "metadata": {
    "collapsed": false,
    "pycharm": {
     "name": "#%%\n"
    }
   }
  },
  {
   "cell_type": "markdown",
   "source": [
    "### We can gather visually that the data for both groups seems as if drawn from a normal distribution."
   ],
   "metadata": {
    "collapsed": false,
    "pycharm": {
     "name": "#%% md\n"
    }
   }
  },
  {
   "cell_type": "markdown",
   "source": [
    "### Let's see if Assumption #4 is being met:\n",
    "\n",
    "let's check if the variance of the 2 groups are almost equal using a F test:\n",
    "\n",
    "$\\sigma_1$ - sd of the non-smokers.\n",
    "$\\sigma_2$ - sd of the smokers. \n",
    "\n",
    "Null Hypothesis (H0):  $\\sigma_1^2 = \\sigma_2^2$ \n",
    "\n",
    "Alternative Hypothesis (H1): $\\sigma_1^2 \\neq \\sigma_2^2$ \n",
    "\n",
    "T.S. :  $\\( F = \\frac{S_X^2}{S_Y^2} = \\frac{1}{n - 1} \\sum_{i=1}^{n} \\frac{(X_i - \\bar{X})^2}{n^2} \\, / \\, \\frac{1}{m - 1} \\sum_{i=1}^{m} \\frac{(Y_i - \\bar{Y})^2}{n^2} \\sim F(n-1, m-1) \\)$\n",
    "\n",
    "R.R. :  $\\( F > F_{(n-1, m-1), \\alpha}\\)$\n",
    "\n",
    "\n"
   ],
   "metadata": {
    "collapsed": false,
    "pycharm": {
     "name": "#%% md\n"
    }
   }
  },
  {
   "cell_type": "code",
   "execution_count": 112,
   "outputs": [],
   "source": [
    "def f_test_variances(data_frame1, data_frame2, alpha=0.05):\n",
    "    \"\"\"\n",
    "    Perform an F-test for comparing the variances of two datasets.\n",
    "\n",
    "    This function calculates the F-statistic, critical value, and result of an F-test\n",
    "    to determine whether the variances of two datasets are significantly different.\n",
    "\n",
    "    Parameters:\n",
    "    - data_frame1 (DataFrame or Series): The first dataset.\n",
    "    - data_frame2 (DataFrame or Series): The second dataset.\n",
    "    - alpha (float): Significance level (default is 0.05).\n",
    "\n",
    "    Returns:\n",
    "    - f_statistic (float): The calculated F-statistic.\n",
    "    - critical_value (float): The critical value from the F-distribution.\n",
    "    - result (str): The result of the F-test: \"Reject\" or \"Fail to Reject\".\n",
    "    \"\"\"\n",
    "    group1 = data_frame1.squeeze()\n",
    "    group2 = data_frame2.squeeze()\n",
    "\n",
    "    var_group1 = np.var(group1, ddof=1)\n",
    "    var_group2 = np.var(group2, ddof=1)\n",
    "\n",
    "    f_statistic = var_group1 / var_group2 if var_group1 > var_group2 else var_group2 / var_group1\n",
    "    critical_value = 1 / stats.f.ppf(1 - alpha / 2, len(group1) - 1, len(group2) - 1)\n",
    "\n",
    "    result = \"Reject\" if f_statistic > critical_value else \"Fail to Reject\"\n",
    "\n",
    "    return f_statistic, critical_value, result"
   ],
   "metadata": {
    "collapsed": false,
    "pycharm": {
     "name": "#%%\n"
    }
   }
  },
  {
   "cell_type": "code",
   "execution_count": 113,
   "outputs": [
    {
     "data": {
      "text/plain": "(1.0304232536482145, 0.9897269412399613, 'Reject')"
     },
     "execution_count": 113,
     "metadata": {},
     "output_type": "execute_result"
    }
   ],
   "source": [
    "f_test_variances(non_smokers_df,smokers_df)"
   ],
   "metadata": {
    "collapsed": false,
    "pycharm": {
     "name": "#%%\n"
    }
   }
  },
  {
   "cell_type": "markdown",
   "source": [
    "### We can see from the results that the variances are significantly different, hence we can say that assumption number five does not hold for our data."
   ],
   "metadata": {
    "collapsed": false,
    "pycharm": {
     "name": "#%% md\n"
    }
   }
  },
  {
   "cell_type": "markdown",
   "source": [
    "## Part 2c - T test for same variances (with the assumption that the variances are equal):"
   ],
   "metadata": {
    "collapsed": false,
    "pycharm": {
     "name": "#%% md\n"
    }
   }
  },
  {
   "cell_type": "code",
   "execution_count": 114,
   "outputs": [],
   "source": [
    "def t_test(df1,df2):\n",
    "    \"\"\"\n",
    "    Perform an equal variances t-test between two datasets.\n",
    "\n",
    "    This function calculates the t-statistic and p-value for a two-sample\n",
    "    t-test assuming equal variances between the two datasets. It also calculates\n",
    "    the critical t-test value for a given significance level (α/2) and degrees\n",
    "    of freedom.\n",
    "\n",
    "    Args:\n",
    "        df1 (array-like): The first dataset for the t-test.\n",
    "        df2 (array-like): The second dataset for the t-test.\n",
    "\n",
    "    Returns:\n",
    "        None: This function prints out the t-test results, including the t-statistic,\n",
    "        p-value, and whether to reject the null hypothesis.\n",
    "\n",
    "    Note:\n",
    "        This function assumes that the datasets have equal variances\n",
    "    \"\"\"\n",
    "    t_statistic, P_value = stats.ttest_ind(df1,df2)\n",
    "    \n",
    "    t_test_val = stats.t.ppf(0.975, len(df1) + len(df2) - 2)\n",
    "    \n",
    "    print(\"Equal Variances T-Test Results:\")\n",
    "    print(\"t-statistic: \" +  str(t_statistic))\n",
    "    print(\"p-value: \" + str(P_value))\n",
    "    print(\"Reject null hypothesis: \" + str(t_test_val < abs(t_statistic)))"
   ],
   "metadata": {
    "collapsed": false,
    "pycharm": {
     "name": "#%%\n"
    }
   }
  },
  {
   "cell_type": "code",
   "execution_count": 115,
   "outputs": [
    {
     "name": "stdout",
     "output_type": "stream",
     "text": [
      "Equal Variances T-Test Results:\n",
      "t-statistic: -25.65625921540835\n",
      "p-value: 5.1727187794774844e-145\n",
      "Reject null hypothesis: True\n"
     ]
    }
   ],
   "source": [
    "t_test(non_smokers_df,smokers_df)"
   ],
   "metadata": {
    "collapsed": false,
    "pycharm": {
     "name": "#%%\n"
    }
   }
  },
  {
   "cell_type": "markdown",
   "source": [
    "## Part 2d - Wald test:\n",
    "\n",
    "#### $\\(H_0: \\mu_1 = \\mu_2\\)$\n",
    "\n",
    "#### $\\(H_0: \\mu_1 \\neq \\mu_2\\)$\n",
    "\n",
    "#### $\\(\\bar{X}_1\\)$ and $\\(\\bar{X}_2\\)$ are the sample means and $\\(s_1\\)$ and $\\(s_2\\)$ are the sample standard deviations\n",
    "\n",
    "#### $\\[ W = \\frac{(\\bar{X}_1 - \\bar{X}_2)}{\\sqrt{\\frac{s_1^2}{n_1} + \\frac{s_2^2}{n_2}}} \\]$\n",
    "\n",
    "####  If the test statistic is greater than the critical value or if the p-value is less than the chosen significance level $(\\(\\alpha\\))$, the null hypothesis is rejected."
   ],
   "metadata": {
    "collapsed": false,
    "pycharm": {
     "name": "#%% md\n"
    }
   }
  },
  {
   "cell_type": "code",
   "execution_count": 116,
   "outputs": [],
   "source": [
    "def wald_test_two_means(dataframe1, dataframe2, alpha=0.05):\n",
    "    \"\"\"\n",
    "    Perform a Wald test for the difference of means between two datasets.\n",
    "\n",
    "    This function calculates the Wald test statistic and p-value for testing\n",
    "    the null hypothesis that the means of two independent datasets are equal.\n",
    "    It calculates the test statistic based on the difference of means and\n",
    "    their estimated standard errors. The function also calculates the critical\n",
    "    test quantile for a given significance level (alpha) and prints whether\n",
    "    the null hypothesis is rejected based on the test results.\n",
    "\n",
    "    Args:\n",
    "        dataframe1 (pd.DataFrame): The first dataset for the test.\n",
    "        dataframe2 (pd.DataFrame): The second dataset for the test.\n",
    "        alpha (float, optional): The significance level for the test. Default is 0.05.\n",
    "\n",
    "    Returns:\n",
    "        None: This function prints out the Wald test results, including the test\n",
    "        statistic, p-value, test quantile, and whether to reject the null hypothesis.\n",
    "    \"\"\"\n",
    "    sample1 = dataframe1.values.flatten()\n",
    "    sample2 = dataframe2.values.flatten()\n",
    "\n",
    "    n1 = len(sample1)\n",
    "    n2 = len(sample2)\n",
    "    \n",
    "    mean1 = np.mean(sample1)\n",
    "    mean2 = np.mean(sample2)\n",
    "    \n",
    "    var1 = np.var(sample1)  \n",
    "    var2 = np.var(sample2)\n",
    "    test_statistic = (mean1 - mean2) / (np.sqrt(var1 / n1 + var2 / n2))\n",
    "\n",
    "    # Calculate p-value using standard normal distribution\n",
    "    p_value = 2 * stats.norm.cdf(-abs(test_statistic))\n",
    "    \n",
    "    print(\"Test statistic: \" + str(test_statistic))\n",
    "    print(\"P-value: \" + str(p_value))\n",
    "    print(\"test quantile: \" + str(stats.norm.ppf(0.975)))\n",
    "    print(\"Reject null hypothesis: \" + str(stats.norm.ppf(0.975) < abs(test_statistic)))"
   ],
   "metadata": {
    "collapsed": false,
    "pycharm": {
     "name": "#%%\n"
    }
   }
  },
  {
   "cell_type": "code",
   "execution_count": 117,
   "outputs": [
    {
     "name": "stdout",
     "output_type": "stream",
     "text": [
      "Test statistic: -25.583387350455347\n",
      "P-value: 2.335305222217875e-144\n",
      "test quantile: 1.959963984540054\n",
      "Reject null hypothesis: True\n"
     ]
    }
   ],
   "source": [
    "wald_test_two_means(non_smokers_df,smokers_df)"
   ],
   "metadata": {
    "collapsed": false,
    "pycharm": {
     "name": "#%%\n"
    }
   }
  },
  {
   "cell_type": "markdown",
   "source": [
    "## Part 2e - Results & P-values:\n",
    "We can see that in both cases the P-values are very small and that in both tests we are rejecting the null hypothesis. \n",
    "that makes sense because we are using 2 different but similar distributions; in the T-test we are using t\n",
    "distribution and in the Wald test we are using Normal distribution."
   ],
   "metadata": {
    "collapsed": false,
    "pycharm": {
     "name": "#%% md\n"
    }
   }
  },
  {
   "cell_type": "markdown",
   "source": [
    "## Part 2f - Likelihood Ratio Test:\n",
    "\n",
    "#### $\\(H_0: \\mu_1 - \\mu_2\\)$\n",
    "\n",
    "#### $\\(H_0: \\mu_1 \\neq \\mu_2\\)$\n",
    "\n",
    "$ \\text{Likelihood Ratio} = 2 \\cdot \\left( \\ln(\\mathcal{L}_{\\text{alt}}) - \\ln(\\mathcal{L}_{\\text{null}})   \\right) $\n",
    "\n",
    "After developing the likelihood Ratio we get the following formula for the statistic:\n",
    "\n",
    " = $ n\\log\\left(\\frac{\\hat{\\sigma^2}}{S_p ^ 2}\\right) + \\sum_{i=1}^{n_1} \\left(\\frac{(x_{1i} - \\hat{\\mu})^2}{\\hat{\\sigma}^2} - \\frac{(x_{1i} - \\hat{\\mu_1})^2}{S_p ^ 2}\\right) + \\sum_{i=1}^{n_2} \\left(\\frac{(x_{2i} - \\hat{\\mu})^2}{\\hat{\\sigma}^2} - \\frac{(x_{2i} - \\hat{\\mu_2})^2}{S_p ^ 2}\\right) $ \n"
   ],
   "metadata": {
    "collapsed": false,
    "pycharm": {
     "name": "#%% md\n"
    }
   }
  },
  {
   "cell_type": "markdown",
   "source": [],
   "metadata": {
    "collapsed": false,
    "pycharm": {
     "name": "#%% md\n"
    }
   }
  },
  {
   "cell_type": "code",
   "execution_count": 118,
   "outputs": [],
   "source": [
    "def likelihood_ratio_test(df1, df2, alpha=0.05):\n",
    "    \"\"\"\n",
    "    Perform a likelihood ratio test for the equality of variances between two datasets.\n",
    "\n",
    "    This function calculates the likelihood ratio test statistic for testing the null\n",
    "    hypothesis that the variances of two independent datasets are equal. It compares the\n",
    "    fit of a pooled variance model to the fit of separate variance models for the two\n",
    "    datasets. The function calculates the test statistic, compares it to the critical\n",
    "    chi-squared quantile, and returns a dictionary containing the test results.\n",
    "\n",
    "    Args:\n",
    "        df1 (pd.DataFrame): The first dataset for the test.\n",
    "        df2 (pd.DataFrame): The second dataset for the test.\n",
    "        alpha (float, optional): The significance level for the test. Default is 0.05.\n",
    "\n",
    "    Returns:\n",
    "        dict: A dictionary containing the likelihood ratio test results, including the\n",
    "        test statistic, critical chi-squared quantile, and whether to reject the null hypothesis.\n",
    "    \"\"\"\n",
    "    # Creating 3 np.arrays\n",
    "    data1 = df1.values.flatten()\n",
    "    data2 = df2.values.flatten()\n",
    "    data_combined = np.concatenate((data1, data2))\n",
    "\n",
    "    # Creating measurements (mean, var, pooled, var, n)\n",
    "    mean1 = np.mean(data1)\n",
    "    mean2 = np.mean(data2)\n",
    "    mean_combined = np.mean(data_combined)\n",
    "    var1 = np.var(data1)\n",
    "    var2 = np.var(data2)\n",
    "    var_combined = np.var(data_combined)\n",
    "    n = len(data_combined)\n",
    "    pooled_variance = ((len(data1) - 1) * var1 + (len(data2) - 1) * var2) / (len(data1) + len(data2) - 2)\n",
    "\n",
    "    # Creating the 3 different parts of the statistic we developed\n",
    "    n_log_sigma_sp2 = n * np.log(var_combined / pooled_variance)\n",
    "    first_sum = np.sum(((data1 - mean_combined)**2 / var_combined) - ((data1 - mean1)**2 / pooled_variance))\n",
    "    second_sum = np.sum(((data2 - mean_combined)**2 / var_combined) - ((data2 - mean2)**2 / pooled_variance))\n",
    "\n",
    "    # Combining all for the statistic\n",
    "    statistic = n_log_sigma_sp2 + first_sum + second_sum\n",
    "\n",
    "    # Finding the Chi squared quantile\n",
    "    chi_value = stats.chi2.ppf(0.95,1)\n",
    "\n",
    "    result = {\n",
    "        'statistic': {statistic},\n",
    "        'chi_value': {chi_value},\n",
    "        'reject_null': {statistic > chi_value}\n",
    "    }\n",
    "\n",
    "    return result"
   ],
   "metadata": {
    "collapsed": false,
    "pycharm": {
     "name": "#%%\n"
    }
   }
  },
  {
   "cell_type": "code",
   "execution_count": 119,
   "outputs": [
    {
     "data": {
      "text/plain": "{'statistic': {657.5252840603022},\n 'chi_value': {3.841458820694124},\n 'reject_null': {True}}"
     },
     "execution_count": 119,
     "metadata": {},
     "output_type": "execute_result"
    }
   ],
   "source": [
    "likelihood_ratio_test(non_smokers_df,smokers_df)"
   ],
   "metadata": {
    "collapsed": false,
    "pycharm": {
     "name": "#%%\n"
    }
   }
  },
  {
   "cell_type": "markdown",
   "source": [
    "# part 3 - Different Sample Sizes"
   ],
   "metadata": {
    "collapsed": false,
    "pycharm": {
     "name": "#%% md\n"
    }
   }
  },
  {
   "cell_type": "markdown",
   "source": [
    "## Part 2a - The Hypothesis:"
   ],
   "metadata": {
    "collapsed": false
   }
  },
  {
   "cell_type": "code",
   "source": [
    "def parts_abc(smokers_mean, non_smokers_mean, part_d=False):\n",
    "    \"\"\"\n",
    "    Perform statistical analysis for parts A, B, and C, and optionally D.\n",
    "\n",
    "    Parameters:\n",
    "    smokers_mean (float): Expected mean weight for smokers.\n",
    "    non_smokers_mean (float): Expected mean weight for non-smokers.\n",
    "    part_d (bool, optional): If True, include Part D analysis. Default is False.\n",
    "\n",
    "    Returns:\n",
    "    None\n",
    "\n",
    "    This function performs statistical analysis for parts A, B, and C of the problem,\n",
    "    and optionally for Part D if specified. It calculates confidence intervals,\n",
    "    performs Wald hypothesis tests, and analyzes the percentage of intervals\n",
    "    containing the expected means.\n",
    "\n",
    "    Parameters:\n",
    "    - smokers_mean: Expected mean weight for smokers.\n",
    "    - non_smokers_mean: Expected mean weight for non-smokers.\n",
    "    - part_d: Boolean indicating whether to include Part D analysis (optional).\n",
    "\n",
    "    For each sample size in 'sizes':\n",
    "    - Generate intervals and p-values for smokers and non-smokers.\n",
    "    - Calculate the percentage of intervals containing the expected means.\n",
    "\n",
    "    If 'part_d' is True:\n",
    "    - Plot the intervals' widths and p-values.\n",
    "    - Print the percentage of intervals containing the expected means for both groups.\n",
    "    \"\"\"\n",
    "\n",
    "    np.random.seed(42)\n",
    "    sizes = [30, 50, 100, 500]\n",
    "    intervals = {size: {'smokers': [], 'non_smokers': []} for size in sizes}\n",
    "    p_vals = {size: [] for size in sizes}\n",
    "    within_interval = {'smokers': 0, 'non_smokers': 0}\n",
    "    rounds = 100 if part_d else 1\n",
    "\n",
    "    for size in sizes:\n",
    "        for _ in range(rounds):\n",
    "            sample = df.sample(n=size)\n",
    "            # Filtering\n",
    "            smokers_df = sample[sample[\"Smoking_History\"] == 'Yes']['Weight_(kg)']\n",
    "            non_smokers_df = sample[sample[\"Smoking_History\"] == 'No']['Weight_(kg)']\n",
    "\n",
    "            # Getting sample sizes\n",
    "            n_non_smokers = len(non_smokers_df)\n",
    "            n_smokers = len(smokers_df)\n",
    "\n",
    "            # Using biased estimator for the variance\n",
    "            non_smokers_sample_variance = non_smokers_df.var(ddof=0)\n",
    "            smokers_sample_variance = smokers_df.var(ddof=0)\n",
    "            se_non_smokers = ((1/n_non_smokers) * non_smokers_sample_variance)**0.5\n",
    "            se_smokers = ((1/n_smokers) * smokers_sample_variance)**0.5\n",
    "\n",
    "            # Getting the average per group\n",
    "            avg_non_smokers = non_smokers_df.mean()\n",
    "            avg_smokers = smokers_df.mean()\n",
    "\n",
    "            # Calculate confidence intervals\n",
    "            interval = calc_CI(avg_non_smokers, avg_smokers, se_non_smokers, se_smokers)\n",
    "\n",
    "            # Calculate Wald standard error and p-value\n",
    "            wald_se_hat = (smokers_sample_variance/n_smokers + non_smokers_sample_variance/n_non_smokers)**0.5\n",
    "            if part_d:\n",
    "                P_val = wald_test(avg_smokers - avg_non_smokers, 0, wald_se_hat,verbose=False)\n",
    "            else:\n",
    "                P_val = wald_test(avg_smokers - avg_non_smokers, 0, wald_se_hat)\n",
    "                print(f\"Intervals for sample size: {size}\")\n",
    "                print(f\"Confidence intervals for smokers: {interval['CI_smokers']}\")\n",
    "                print(f\"Confidence intervals for non-smokers: {interval['CI_non_smokers']}\\n\")\n",
    "\n",
    "            # Update intervals and p-values (Part D)\n",
    "            if part_d:\n",
    "                intervals[size]['smokers'].append(interval['CI_smokers'][1] - interval['CI_smokers'][0])\n",
    "                intervals[size]['non_smokers'].append(interval['CI_non_smokers'][1] - interval['CI_non_smokers'][0])\n",
    "                p_vals[size].append(P_val)\n",
    "\n",
    "            # Check if expected means are within intervals\n",
    "            if number_in_interval(smokers_mean, interval['CI_smokers']):\n",
    "                within_interval['smokers'] += 1\n",
    "            if number_in_interval(non_smokers_mean, interval['CI_non_smokers']):\n",
    "                within_interval['non_smokers'] += 1\n",
    "\n",
    "    # Perform Part D analysis if specified\n",
    "    if part_d:\n",
    "        plot_intervals(intervals, sizes)\n",
    "        plot_P_val(p_vals, sizes)\n",
    "        print(f\"Percentage of intervals that the smokers average was within the interval: {within_interval['smokers'] * 0.25}%\")\n",
    "        print(f\"Percentage of intervals that the non-smokers average was within the interval: {within_interval['non_smokers'] * 0.25}%\")"
   ],
   "metadata": {
    "collapsed": false,
    "pycharm": {
     "name": "#%%\n"
    }
   },
   "execution_count": null,
   "outputs": []
  },
  {
   "cell_type": "markdown",
   "source": [
    "## Part 2b - The Assumptions:\n",
    "\n",
    "### We need to check if the following assumptions are being met in order to preform an independent T-test:\n",
    "\n",
    "1. The measurement scale used for such hypothesis testing follows a set of continuous or ordinal patterns. -> we checked it in the previous assigment.\n",
    "2. The tests are completely based on random sampling. -> we were given a real data which was collected randomly.\n",
    "3. When the data is plotted with respect to the T-test distribution, it should follow a normal distribution. -> lets check it.\n",
    "4. The variance should be such that the standard deviations of the samples are almost equal. -> lets check it."
   ],
   "metadata": {
    "collapsed": false
   }
  },
  {
   "cell_type": "markdown",
   "source": [
    "### Let's see if Assumption #3 is being met:"
   ],
   "metadata": {
    "collapsed": false
   }
  },
  {
   "cell_type": "code",
   "execution_count": 120,
   "outputs": [],
   "source": [
    "smokers_df = df[df[\"Smoking_History\"] == 'Yes']['Weight_(kg)']\n",
    "non_smokers_df = df[df[\"Smoking_History\"] == 'No']['Weight_(kg)']"
   ],
   "metadata": {
    "collapsed": false,
    "ExecuteTime": {
     "end_time": "2023-08-17T13:46:49.239139852Z",
     "start_time": "2023-08-17T13:46:49.177274071Z"
    }
   }
  },
  {
   "cell_type": "code",
   "execution_count": 121,
   "outputs": [],
   "source": [
    "def plot_histogram(data, bins=10, title=None, xlabel=None, ylabel=None):\n",
    "    \"\"\"\n",
    "    Plot a histogram of a specific column data.\n",
    "    \n",
    "    Parameters:\n",
    "    - data (DataFrame or Series): The input data to be plotted.\n",
    "    - bins (int): Number of bins for the histogram (default is 10).\n",
    "    - title (str): Title for the plot (default is None).\n",
    "    - xlabel (str): Label for the x-axis (default is None).\n",
    "    - ylabel (str): Label for the y-axis (default is None).\n",
    "    \"\"\"\n",
    "    if isinstance(data, pd.Series):\n",
    "        data = data.to_frame()\n",
    "    elif not isinstance(data, pd.DataFrame) or data.shape[1] != 1:\n",
    "        raise ValueError(\"Input data must be a single-column DataFrame or a Series.\")\n",
    "    \n",
    "    column_name = data.columns[0]\n",
    "    \n",
    "    plt.figure(figsize=(6, 4))\n",
    "    plt.hist(data[column_name], bins=bins, edgecolor='black')\n",
    "    \n",
    "    if title:\n",
    "        plt.title(title)\n",
    "    if xlabel:\n",
    "        plt.xlabel(xlabel)\n",
    "    if ylabel:\n",
    "        plt.ylabel(ylabel)\n",
    "    \n",
    "    plt.grid(True)\n",
    "    plt.show()\n"
   ],
   "metadata": {
    "collapsed": false,
    "ExecuteTime": {
     "end_time": "2023-08-17T13:46:49.359660466Z",
     "start_time": "2023-08-17T13:46:49.330994445Z"
    }
   }
  },
  {
   "cell_type": "code",
   "execution_count": 122,
   "outputs": [
    {
     "name": "stdout",
     "output_type": "stream",
     "text": [
      "Wald Test with alpha = 0.05\n",
      "H0: theta = 0\n",
      "H1: theta != 0\n",
      "Test statistic: -0.18036\n",
      "0.18036199095023164 > ? 1.959963984540054\n",
      "Rejected: False\n",
      "P value: 0.85687\n",
      "\n",
      "\n",
      "Intervals for sample size: 30\n",
      "Confidence intervals for smokers: [68.60700100976203, 90.42992206716104]\n",
      "Confidence intervals for non-smokers: [68.29149438750295, 91.10615267132059]\n",
      "\n",
      "Wald Test with alpha = 0.05\n",
      "H0: theta = 0\n",
      "H1: theta != 0\n",
      "Test statistic: 2.94143\n",
      "2.941428571428588 > ? 1.959963984540054\n",
      "Rejected: True\n",
      "P value: 0.00327\n",
      "\n",
      "\n",
      "Intervals for sample size: 50\n",
      "Confidence intervals for smokers: [78.8947751754022, 91.57522482459783]\n",
      "Confidence intervals for non-smokers: [73.8658326552762, 90.72131020186666]\n",
      "\n",
      "Wald Test with alpha = 0.05\n",
      "H0: theta = 0\n",
      "H1: theta != 0\n",
      "Test statistic: -0.06592\n",
      "0.06591666666662377 > ? 1.959963984540054\n",
      "Rejected: False\n",
      "P value: 0.94744\n",
      "\n",
      "\n",
      "Intervals for sample size: 100\n",
      "Confidence intervals for smokers: [75.24090799579916, 88.28259200420085]\n",
      "Confidence intervals for non-smokers: [76.22315686816673, 87.43217646516653]\n",
      "\n",
      "Wald Test with alpha = 0.05\n",
      "H0: theta = 0\n",
      "H1: theta != 0\n",
      "Test statistic: 3.23524\n",
      "3.235237046103478 > ? 1.959963984540054\n",
      "Rejected: True\n",
      "P value: 0.00122\n",
      "\n",
      "\n",
      "Intervals for sample size: 500\n",
      "Confidence intervals for smokers: [81.60310698649454, 87.8378232460636]\n",
      "Confidence intervals for non-smokers: [79.01715852016869, 83.9532976201825]\n",
      "\n"
     ]
    }
   ],
   "source": [
    "plot_histogram(smokers_df,50,\"Smokers histogram\",'Weight_(kg)','Amount')\n",
    "plot_histogram(smokers_df,50,\"Non smokers histogram\",'Weight_(kg)','Amount')"
   ],
   "metadata": {
    "collapsed": false,
    "ExecuteTime": {
     "end_time": "2023-08-17T13:46:49.863865107Z",
     "start_time": "2023-08-17T13:46:49.527966605Z"
    }
   }
  },
  {
   "cell_type": "markdown",
   "source": [
    "### We can see from the plots that the data for both groups looks like they come from a normal distribution."
   ],
   "metadata": {
    "collapsed": false
   }
  },
  {
   "cell_type": "markdown",
   "source": [
    "### Let's see if Assumption #4 is being met:\n",
    "\n",
    "let's check if the variance of the 2 groups are almost equal using a F test:\n",
    "\n",
    "$\\sigma_1$ - sd of the non-smokers.\n",
    "$\\sigma_2$ - sd of the smokers. \n",
    "\n",
    "Null Hypothesis (H0):  $\\sigma_1^2 = \\sigma_2^2$ \n",
    "\n",
    "Alternative Hypothesis (H1): $\\sigma_1^2 \\neq \\sigma_2^2$ \n",
    "\n",
    "T.S. :  $\\( F = \\frac{S_X^2}{S_Y^2} = \\frac{1}{n - 1} \\sum_{i=1}^{n} \\frac{(X_i - \\bar{X})^2}{n^2} \\, / \\, \\frac{1}{m - 1} \\sum_{i=1}^{m} \\frac{(Y_i - \\bar{Y})^2}{n^2} \\sim F(n-1, m-1) \\)$\n",
    "\n",
    "R.R. :  $\\( F > F_{(n-1, m-1), \\alpha}\\)$\n",
    "\n",
    "\n"
   ],
   "metadata": {
    "collapsed": false
   }
  },
  {
   "cell_type": "code",
   "execution_count": 123,
   "outputs": [
    {
     "data": {
      "text/plain": "<Figure size 864x576 with 8 Axes>",
      "image/png": "[encoded data removed]"
     },
     "metadata": {},
     "output_type": "display_data"
    },
    {
     "data": {
      "text/plain": "<Figure size 864x576 with 4 Axes>",
      "image/png": "[encoded data removed]"
     },
     "metadata": {},
     "output_type": "display_data"
    },
    {
     "name": "stdout",
     "output_type": "stream",
     "text": [
      "Percentage of intervals that the smokers average was within the interval: 90.5%\n",
      "Percentage of intervals that the non-smokers average was within the interval: 94.5%\n"
     ]
    }
   ],
   "source": [
    "def f_test_variances(data_frame1, data_frame2, alpha=0.05):\n",
    "\n",
    "    group1 = data_frame1.squeeze()\n",
    "    group2 = data_frame2.squeeze()\n",
    "    \n",
    "    var_group1 = np.var(group1, ddof=1)\n",
    "    var_group2 = np.var(group2, ddof=1)\n",
    "    \n",
    "    f_statistic = var_group1 / var_group2 if var_group1 > var_group2 else var_group2 / var_group1\n",
    "    critical_value = 1 / stats.f.ppf(1 - alpha / 2, len(group1) - 1, len(group2) - 1)\n",
    "    \n",
    "    result = \"Reject\" if f_statistic > critical_value else \"Fail to Reject\"\n",
    "    \n",
    "    return f_statistic, critical_value, result\n",
    "\n"
   ],
   "metadata": {
    "collapsed": false,
    "ExecuteTime": {
     "end_time": "2023-08-17T13:46:50.076143095Z",
     "start_time": "2023-08-17T13:46:50.045054145Z"
    }
   }
  },
  {
   "cell_type": "code",
   "execution_count": 124,
   "outputs": [],
   "source": [
    "f_test_variances(non_smokers_df,smokers_df)"
   ],
   "metadata": {
    "collapsed": false,
    "ExecuteTime": {
     "end_time": "2023-08-17T13:46:50.289947602Z",
     "start_time": "2023-08-17T13:46:50.231564310Z"
    }
   }
  },
  {
   "cell_type": "markdown",
   "source": [
    "### We can see from the results that the variances are significantly different, hance we can say that assumption number five does not hold for our data."
   ],
   "metadata": {
    "collapsed": false
   }
  },
  {
   "cell_type": "markdown",
   "source": [
    "## Part 2c - T test for same variances (with the assumption that the variances are equal):"
   ],
   "metadata": {
    "collapsed": false
   }
  },
  {
   "cell_type": "code",
   "execution_count": 134,
   "outputs": [],
   "source": [
    "def t_test(df1,df2):\n",
    "    t_statistic, P_value = stats.ttest_ind(df1,df2)\n",
    "    \n",
    "    t_test_val = stats.t.ppf(0.975, len(df1) + len(df2) - 2)\n",
    "    \n",
    "    print(\"Equal Variances T-Test Results:\")\n",
    "    print(\"t-statistic: \" +  str(t_statistic))\n",
    "    print(\"p-value: \" + str(P_value))\n",
    "    print(\"Reject null hypothesis: \" + str(t_test_val < abs(t_statistic)))"
   ],
   "metadata": {
    "collapsed": false,
    "ExecuteTime": {
     "end_time": "2023-08-17T13:46:50.805166054Z",
     "start_time": "2023-08-17T13:46:50.782458601Z"
    }
   }
  },
  {
   "cell_type": "code",
   "execution_count": 135,
   "outputs": [
    {
     "name": "stdout",
     "output_type": "stream",
     "text": [
      "Equal Variances T-Test Results:\n",
      "t-statistic: -25.65625921540835\n",
      "p-value: 5.1727187794774844e-145\n",
      "Reject null hypothesis: True\n"
     ]
    }
   ],
   "source": [
    "t_test(non_smokers_df,smokers_df)"
   ],
   "metadata": {
    "collapsed": false,
    "ExecuteTime": {
     "end_time": "2023-08-17T13:46:51.112651780Z",
     "start_time": "2023-08-17T13:46:51.066441662Z"
    }
   }
  },
  {
   "cell_type": "markdown",
   "source": [
    "## Part 2d - Wald test:\n",
    "\n",
    "#### $\\(H_0: \\mu_1 = \\mu_2\\)$\n",
    "\n",
    "#### $\\(H_0: \\mu_1 \\neq \\mu_2\\)$\n",
    "\n",
    "#### $\\(\\bar{X}_1\\)$ and $\\(\\bar{X}_2\\)$ are the sample means and $\\(s_1\\)$ and $\\(s_2\\)$ are the sample standard deviations\n",
    "\n",
    "#### $\\[ W = \\frac{(\\bar{X}_1 - \\bar{X}_2)}{\\sqrt{\\frac{s_1^2}{n_1} + \\frac{s_2^2}{n_2}}} \\]$\n",
    "\n",
    "####  If the test statistic is greater than the critical value or if the p-value is less than the chosen significance level $(\\(\\alpha\\))$, the null hypothesis is rejected."
   ],
   "metadata": {
    "collapsed": false
   }
  },
  {
   "cell_type": "code",
   "execution_count": 136,
   "outputs": [],
   "source": [
    "def wald_test_two_means(dataframe1, dataframe2, alpha=0.05):\n",
    "    sample1 = dataframe1.values.flatten()\n",
    "    sample2 = dataframe2.values.flatten()\n",
    "\n",
    "    n1 = len(sample1)\n",
    "    n2 = len(sample2)\n",
    "    \n",
    "    mean1 = np.mean(sample1)\n",
    "    mean2 = np.mean(sample2)\n",
    "    \n",
    "    var1 = np.var(sample1)  \n",
    "    var2 = np.var(sample2)\n",
    "    \n",
    "    \n",
    "    test_statistic = (mean1 - mean2) / (np.sqrt(var1 / n1 + var2 / n2))\n",
    "    \n",
    "    \n",
    "    \n",
    "    # Calculate p-value using standard normal distribution\n",
    "    p_value = 2 * stats.norm.cdf(-abs(test_statistic))\n",
    "    \n",
    "    print(\"Test statistic: \" + str(test_statistic))\n",
    "    print(\"P-value: \" + str(p_value))\n",
    "    print(\"test quantile: \" + str(stats.norm.ppf(0.975)))\n",
    "    print(\"Reject null hypothesis: \" + str(stats.norm.ppf(0.975) < abs(test_statistic)))"
   ],
   "metadata": {
    "collapsed": false,
    "ExecuteTime": {
     "end_time": "2023-08-17T13:46:51.916564849Z",
     "start_time": "2023-08-17T13:46:51.894292017Z"
    }
   }
  },
  {
   "cell_type": "code",
   "execution_count": 137,
   "outputs": [
    {
     "name": "stdout",
     "output_type": "stream",
     "text": [
      "Test statistic: -25.583387350455347\n",
      "P-value: 2.3353052222178754e-144\n",
      "test quantile: 1.959963984540054\n",
      "Reject null hypothesis: True\n"
     ]
    }
   ],
   "source": [
    "wald_test_two_means(non_smokers_df,smokers_df)"
   ],
   "metadata": {
    "collapsed": false,
    "ExecuteTime": {
     "end_time": "2023-08-17T13:46:52.176680117Z",
     "start_time": "2023-08-17T13:46:52.129540971Z"
    }
   }
  },
  {
   "cell_type": "markdown",
   "source": [
    "## Part 2e - Results & P-values:\n",
    "We can see that in both cases the P-values are very small and that in both tests we are rejecting the null hypothesis. \n",
    "that makes sense because we are using 2 different but similar distributions, in the T-test we are using t distribution and in the Wald test we are using Normal distribution."
   ],
   "metadata": {
    "collapsed": false
   }
  },
  {
   "cell_type": "markdown",
   "source": [
    "## Part 2f - Likelihood Ratio Test:\n",
    "\n",
    "#### $\\(H_0: \\mu_1 - \\mu_2\\)$\n",
    "\n",
    "#### $\\(H_0: \\mu_1 \\neq \\mu_2\\)$\n",
    "\n",
    "$ \\text{Likelihood Ratio} = 2 \\cdot \\left( \\ln(\\mathcal{L}_{\\text{alt}}) - \\ln(\\mathcal{L}_{\\text{null}})   \\right) $\n",
    "\n",
    "After developing the likelihood Ratio we get the following formula for the statistic:\n",
    "\n",
    " = $ n\\log\\left(\\frac{\\hat{\\sigma^2}}{S_p ^ 2}\\right) + \\sum_{i=1}^{n_1} \\left(\\frac{(x_{1i} - \\hat{\\mu})^2}{\\hat{\\sigma}^2} - \\frac{(x_{1i} - \\hat{\\mu_1})^2}{S_p ^ 2}\\right) + \\sum_{i=1}^{n_2} \\left(\\frac{(x_{2i} - \\hat{\\mu})^2}{\\hat{\\sigma}^2} - \\frac{(x_{2i} - \\hat{\\mu_2})^2}{S_p ^ 2}\\right) $ \n"
   ],
   "metadata": {
    "collapsed": false
   }
  },
  {
   "cell_type": "markdown",
   "source": [],
   "metadata": {
    "collapsed": false
   }
  },
  {
   "cell_type": "code",
   "execution_count": 138,
   "outputs": [],
   "source": [
    "def likelihood_ratio_test(df1, df2, alpha=0.05):\n",
    "    \n",
    "    # Creating 3 np.arrays\n",
    "    data1 = df1.values.flatten()\n",
    "    data2 = df2.values.flatten()\n",
    "    data_combined = np.concatenate((data1, data2))\n",
    "    \n",
    "    # Creating measurements (mean, var, pooled, var, n)\n",
    "    mean1 = np.mean(data1)\n",
    "    mean2 = np.mean(data2)\n",
    "    mean_combined = np.mean(data_combined)\n",
    "    var1 = np.var(data1)\n",
    "    var2 = np.var(data2)\n",
    "    var_combined = np.var(data_combined)\n",
    "    n = len(data_combined)\n",
    "    pooled_variance = ((len(data1) - 1) * var1 + (len(data2) - 1) * var2) / (len(data1) + len(data2) - 2)\n",
    "    \n",
    "    # Creating the 3 different parts of the statistic we developed\n",
    "    n_log_sigma_sp2 = n * np.log(var_combined / pooled_variance) \n",
    "    first_sum = np.sum(((data1 - mean_combined)**2 / var_combined) - ((data1 - mean1)**2 / pooled_variance))\n",
    "    second_sum = np.sum(((data2 - mean_combined)**2 / var_combined) - ((data2 - mean2)**2 / pooled_variance))\n",
    "    \n",
    "    # Combining all for the statistic\n",
    "    statistic = n_log_sigma_sp2 + first_sum + second_sum\n",
    "    \n",
    "    # Finding the Chi squared quantile\n",
    "    chi_value = stats.chi2.ppf(0.95,1)\n",
    "    \n",
    "    result = {\n",
    "        'statistic': {statistic},\n",
    "        'chi_value': {chi_value},\n",
    "        'reject_null': {statistic > chi_value}\n",
    "    }\n",
    "\n",
    "    return result"
   ],
   "metadata": {
    "collapsed": false,
    "ExecuteTime": {
     "end_time": "2023-08-17T13:46:52.928626204Z",
     "start_time": "2023-08-17T13:46:52.910892767Z"
    }
   }
  },
  {
   "cell_type": "code",
   "execution_count": 139,
   "outputs": [
    {
     "data": {
      "text/plain": "{'statistic': {657.5252840603022},\n 'chi_value': {3.841458820694124},\n 'reject_null': {True}}"
     },
     "execution_count": 139,
     "metadata": {},
     "output_type": "execute_result"
    }
   ],
   "source": [
    "likelihood_ratio_test(non_smokers_df,smokers_df)"
   ],
   "metadata": {
    "collapsed": false,
    "ExecuteTime": {
     "end_time": "2023-08-17T13:46:53.156668529Z",
     "start_time": "2023-08-17T13:46:53.127526750Z"
    }
   }
  },
  {
   "cell_type": "markdown",
   "source": [
    "# part 3 - Different Sample Sizes"
   ],
   "metadata": {
    "collapsed": false,
    "pycharm": {
     "name": "#%% md\n"
    }
   }
  },
  {
   "cell_type": "markdown",
   "source": [
    "## part 3 - a,b,c"
   ],
   "metadata": {
    "collapsed": false,
    "pycharm": {
     "name": "#%% md\n"
    }
   }
  },
  {
   "cell_type": "code",
   "execution_count": 140,
   "outputs": [],
   "source": [
    "def parts_abc(smokers_mean, non_smokers_mean, part_d=False):\n",
    "    \"\"\"\n",
    "    Perform statistical analysis for parts A, B, and C, and optionally D.\n",
    "\n",
    "    Parameters:\n",
    "    smokers_mean (float): Expected mean weight for smokers.\n",
    "    non_smokers_mean (float): Expected mean weight for non-smokers.\n",
    "    part_d (bool, optional): If True, include Part D analysis. Default is False.\n",
    "\n",
    "    Returns:\n",
    "    None\n",
    "\n",
    "    This function performs statistical analysis for parts A, B, and C of the problem,\n",
    "    and optionally for Part D if specified. It calculates confidence intervals,\n",
    "    performs Wald hypothesis tests, and analyzes the percentage of intervals\n",
    "    containing the expected means.\n",
    "\n",
    "    Parameters:\n",
    "    - smokers_mean: Expected mean weight for smokers.\n",
    "    - non_smokers_mean: Expected mean weight for non-smokers.\n",
    "    - part_d: Boolean indicating whether to include Part D analysis (optional).\n",
    "\n",
    "    For each sample size in 'sizes':\n",
    "    - Generate intervals and p-values for smokers and non-smokers.\n",
    "    - Calculate the percentage of intervals containing the expected means.\n",
    "\n",
    "    If 'part_d' is True:\n",
    "    - Plot the intervals' widths and p-values.\n",
    "    - Print the percentage of intervals containing the expected means for both groups.\n",
    "\n",
    "    Example usage:\n",
    "    parts_abc(70, 65, part_d=True)\n",
    "    \"\"\"\n",
    "\n",
    "    np.random.seed(42)\n",
    "    sizes = [30, 50, 100, 500]\n",
    "    intervals = {size: {'smokers': [], 'non_smokers': []} for size in sizes}\n",
    "    p_vals = {size: [] for size in sizes}\n",
    "    within_interval = {'smokers': 0, 'non_smokers': 0}\n",
    "    rounds = 100 if part_d else 1\n",
    "\n",
    "    for size in sizes:\n",
    "        for _ in range(rounds):\n",
    "            sample = df.sample(n=size)\n",
    "            # Filtering\n",
    "            smokers_df = sample[sample[\"Smoking_History\"] == 'Yes']['Weight_(kg)']\n",
    "            non_smokers_df = sample[sample[\"Smoking_History\"] == 'No']['Weight_(kg)']\n",
    "\n",
    "            # Getting sample sizes\n",
    "            n_non_smokers = len(non_smokers_df)\n",
    "            n_smokers = len(smokers_df)\n",
    "\n",
    "            # Using biased estimator for the variance\n",
    "            non_smokers_sample_variance = non_smokers_df.var(ddof=0)\n",
    "            smokers_sample_variance = smokers_df.var(ddof=0)\n",
    "            se_non_smokers = ((1/n_non_smokers) * non_smokers_sample_variance)**0.5\n",
    "            se_smokers = ((1/n_smokers) * smokers_sample_variance)**0.5\n",
    "\n",
    "            # Getting the average per group\n",
    "            avg_non_smokers = non_smokers_df.mean()\n",
    "            avg_smokers = smokers_df.mean()\n",
    "\n",
    "            # Calculate confidence intervals\n",
    "            interval = calc_CI(avg_non_smokers, avg_smokers, se_non_smokers, se_smokers)\n",
    "\n",
    "            # Calculate Wald standard error and p-value\n",
    "            wald_se_hat = (smokers_sample_variance/n_smokers + non_smokers_sample_variance/n_non_smokers)**0.5\n",
    "            if part_d:\n",
    "                P_val = wald_test(avg_smokers - avg_non_smokers, 0, wald_se_hat,verbose=False)\n",
    "            else:\n",
    "                P_val = wald_test(avg_smokers - avg_non_smokers, 0, wald_se_hat)\n",
    "                print(f\"Intervals for sample size: {size}\")\n",
    "                print(f\"Confidence intervals for smokers: {interval['CI_smokers']}\")\n",
    "                print(f\"Confidence intervals for non-smokers: {interval['CI_non_smokers']}\\n\")\n",
    "\n",
    "            # Update intervals and p-values (Part D)\n",
    "            if part_d:\n",
    "                intervals[size]['smokers'].append(interval['CI_smokers'][1] - interval['CI_smokers'][0])\n",
    "                intervals[size]['non_smokers'].append(interval['CI_non_smokers'][1] - interval['CI_non_smokers'][0])\n",
    "                p_vals[size].append(P_val)\n",
    "\n",
    "            # Check if expected means are within intervals\n",
    "            if number_in_interval(smokers_mean, interval['CI_smokers']):\n",
    "                within_interval['smokers'] += 1\n",
    "            if number_in_interval(non_smokers_mean, interval['CI_non_smokers']):\n",
    "                within_interval['non_smokers'] += 1\n",
    "\n",
    "    # Perform Part D analysis if specified\n",
    "    if part_d:\n",
    "        plot_intervals(intervals, sizes)\n",
    "        plot_P_val(p_vals, sizes)\n",
    "        print(f\"Percentage of intervals that the smokers average was within the interval: {within_interval['smokers'] * 0.25}%\")\n",
    "        print(f\"Percentage of intervals that the non-smokers average was within the interval: {within_interval['non_smokers'] * 0.25}%\")"
   ],
   "metadata": {
    "collapsed": false,
    "pycharm": {
     "name": "#%%\n"
    },
    "ExecuteTime": {
     "end_time": "2023-08-17T13:46:53.733592203Z",
     "start_time": "2023-08-17T13:46:53.713975499Z"
    }
   }
  },
  {
   "cell_type": "code",
   "execution_count": 141,
   "outputs": [],
   "source": [
    "def wald_test(theta_hat,theta_0,se_hat,verbose = True):\n",
    "    \"\"\"\n",
    "    Perform a Wald hypothesis test.\n",
    "\n",
    "    Parameters:\n",
    "    theta_hat (float): Estimated parameter value.\n",
    "    theta_0 (float): Null hypothesis value to be tested.\n",
    "    se_hat (float): Standard error estimate of the parameter.\n",
    "    verbose (bool, optional): If True, print test details. Default is True.\n",
    "\n",
    "    Returns:\n",
    "    float: Two-sided p-value for the Wald test.\n",
    "    \"\"\"\n",
    "    T = theta_hat - theta_0 / se_hat\n",
    "    W_test_quantile = stats.norm.ppf(0.975)\n",
    "    P_val = 2*stats.norm.cdf(-abs(T))\n",
    "    if verbose:\n",
    "        print(\"Wald Test with alpha = 0.05\")\n",
    "        print(f\"H0: theta = {theta_0}\")\n",
    "        print(f\"H1: theta != {theta_0}\")\n",
    "        print(f\"Test statistic: {T:.5f}\")\n",
    "        print(f\"{abs(T)} > ? {W_test_quantile}\")\n",
    "        print(f\"Rejected: {abs(T)>W_test_quantile}\")\n",
    "        print(f\"P value: {P_val:.5f}\\n\\n\")\n",
    "    return P_val"
   ],
   "metadata": {
    "collapsed": false,
    "pycharm": {
     "name": "#%%\n"
    },
    "ExecuteTime": {
     "end_time": "2023-08-17T13:46:53.946362434Z",
     "start_time": "2023-08-17T13:46:53.921903574Z"
    }
   }
  },
  {
   "cell_type": "code",
   "execution_count": 142,
   "outputs": [],
   "source": [
    "def plot_intervals(intervals,sizes):\n",
    "    \"\"\"\n",
    "    Plot histograms of interval widths for smokers and non-smokers.\n",
    "\n",
    "    Parameters:\n",
    "    intervals (dict): A dictionary containing interval widths for each sample size.\n",
    "                      Expected structure: {size: {'smokers': [...], 'non_smokers': [...]}, ...}\n",
    "    sizes (list): List of sample sizes.\n",
    "\n",
    "    Returns:\n",
    "    None\n",
    "\n",
    "    This function creates a grid of histograms to visualize the distribution of interval\n",
    "    widths for smokers and non-smokers at different sample sizes.\n",
    "\n",
    "    Parameters:\n",
    "    - intervals: A dictionary containing interval widths for each sample size.\n",
    "    - sizes: List of sample sizes.\n",
    "\n",
    "    The function generates histograms for both smokers and non-smokers, displaying the\n",
    "    distribution of interval widths for each sample size. Each histogram represents a\n",
    "    different sample size and is displayed side by side.\n",
    "\n",
    "    Example usage:\n",
    "    plot_intervals(intervals, [30, 50, 100, 500])\n",
    "    \"\"\"\n",
    "    # Create subplots for each size with two histograms side by side\n",
    "    fig, axes = plt.subplots(len(sizes), 2, figsize=(12, 8))\n",
    "\n",
    "    # Loop through sizes and create subplots\n",
    "    for i, size in enumerate(sizes):\n",
    "        ax1 = axes[i, 0]\n",
    "        ax2 = axes[i, 1]\n",
    "\n",
    "        # Plot histogram for smokers\n",
    "        ax1.hist(intervals[size]['smokers'], bins=20, alpha=0.5, color='royalblue', label='Smokers')\n",
    "        ax1.set_title(f'Size: {size}')\n",
    "        ax1.set_xlabel('Interval Size')\n",
    "        ax1.set_ylabel('Frequency')\n",
    "        ax1.legend()\n",
    "\n",
    "        # Plot histogram for non-smokers\n",
    "        ax2.hist(intervals[size]['non_smokers'], bins=20, alpha=0.5, color='orange', label='Non-Smokers')\n",
    "        ax2.set_title(f'Size: {size}')\n",
    "        ax2.set_xlabel('Interval Size')\n",
    "        ax2.set_ylabel('Frequency')\n",
    "        ax2.legend()\n",
    "\n",
    "    # Adjust layout and display the plots\n",
    "    plt.tight_layout()\n",
    "    plt.show()\n"
   ],
   "metadata": {
    "collapsed": false,
    "pycharm": {
     "name": "#%%\n"
    },
    "ExecuteTime": {
     "end_time": "2023-08-17T13:46:54.176952635Z",
     "start_time": "2023-08-17T13:46:54.159446182Z"
    }
   }
  },
  {
   "cell_type": "code",
   "execution_count": 143,
   "outputs": [],
   "source": [
    "def number_in_interval(number, interval):\n",
    "    \"\"\"\n",
    "    Check if a number falls within a specified interval.\n",
    "\n",
    "    Parameters:\n",
    "    number (float): The number to be checked.\n",
    "    interval (tuple): A tuple containing the lower and upper bounds of the interval.\n",
    "\n",
    "    Returns:\n",
    "    bool: True if the number is within the interval, False otherwise.\n",
    "    \"\"\"\n",
    "    interval_start, interval_end = interval\n",
    "    return interval_start <= number <= interval_end"
   ],
   "metadata": {
    "collapsed": false,
    "pycharm": {
     "name": "#%%\n"
    },
    "ExecuteTime": {
     "end_time": "2023-08-17T13:46:54.371647279Z",
     "start_time": "2023-08-17T13:46:54.367488797Z"
    }
   }
  },
  {
   "cell_type": "code",
   "execution_count": 144,
   "outputs": [],
   "source": [
    "def plot_P_val(p_vals,sizes):\n",
    "    \"\"\"\n",
    "    Plot histograms of p-values distribution for different sample sizes.\n",
    "\n",
    "    Parameters:\n",
    "    p_vals (dict): A dictionary containing p-values for each sample size.\n",
    "                   Expected structure: {size: [...], ...}\n",
    "    sizes (list): List of sample sizes.\n",
    "\n",
    "    Returns:\n",
    "    None\n",
    "\n",
    "    This function creates a grid of histograms to visualize the distribution of p-values\n",
    "    for different sample sizes.\n",
    "\n",
    "    Parameters:\n",
    "    - p_vals: A dictionary containing p-values for each sample size.\n",
    "    - sizes: List of sample sizes.\n",
    "\n",
    "    The function generates histograms representing the distribution of p-values for each\n",
    "    sample size. Each histogram represents a different sample size and is displayed side by side.\n",
    "\n",
    "    Example usage:\n",
    "    plot_P_val(p_vals, [30, 50, 100, 500])\n",
    "    \"\"\"\n",
    "    # Calculate grid dimensions\n",
    "    num_rows = 2\n",
    "    num_cols = 2\n",
    "\n",
    "    # Create a grid of plots\n",
    "    fig, axes = plt.subplots(num_rows, num_cols, figsize=(12, 8))\n",
    "\n",
    "    # Flatten the axes array to iterate over all subplots\n",
    "    axes = axes.flatten()\n",
    "\n",
    "    # Loop through sizes and create plots\n",
    "    for i, size in enumerate(sizes):\n",
    "        ax = axes[i]\n",
    "        ax.hist(p_vals[size], bins=20, alpha=0.7, color='green')\n",
    "        ax.set_title(f'P-Values Distribution (Size: {size})')\n",
    "        ax.set_xlabel('P-Value')\n",
    "        ax.set_ylabel('Frequency')\n",
    "        ax.grid(True)\n",
    "\n",
    "    # Adjust layout and display the plots\n",
    "    plt.tight_layout()\n",
    "    plt.show()\n"
   ],
   "metadata": {
    "collapsed": false,
    "pycharm": {
     "name": "#%%\n"
    },
    "ExecuteTime": {
     "end_time": "2023-08-17T13:46:54.609963309Z",
     "start_time": "2023-08-17T13:46:54.579604407Z"
    }
   }
  },
  {
   "cell_type": "code",
   "execution_count": 145,
   "outputs": [
    {
     "name": "stdout",
     "output_type": "stream",
     "text": [
      "Wald Test with alpha = 0.05\n",
      "H0: theta = 0\n",
      "H1: theta != 0\n",
      "Test statistic: -0.18036\n",
      "0.18036199095023164 > ? 1.959963984540054\n",
      "Rejected: False\n",
      "P value: 0.85687\n",
      "\n",
      "\n",
      "Intervals for sample size: 30\n",
      "Confidence intervals for smokers: [68.60700100976203, 90.42992206716104]\n",
      "Confidence intervals for non-smokers: [68.29149438750295, 91.10615267132059]\n",
      "\n",
      "Wald Test with alpha = 0.05\n",
      "H0: theta = 0\n",
      "H1: theta != 0\n",
      "Test statistic: 2.94143\n",
      "2.941428571428574 > ? 1.959963984540054\n",
      "Rejected: True\n",
      "P value: 0.00327\n",
      "\n",
      "\n",
      "Intervals for sample size: 50\n",
      "Confidence intervals for smokers: [78.89477517540219, 91.57522482459781]\n",
      "Confidence intervals for non-smokers: [73.8658326552762, 90.72131020186666]\n",
      "\n",
      "Wald Test with alpha = 0.05\n",
      "H0: theta = 0\n",
      "H1: theta != 0\n",
      "Test statistic: -0.06592\n",
      "0.0659166666666664 > ? 1.959963984540054\n",
      "Rejected: False\n",
      "P value: 0.94744\n",
      "\n",
      "\n",
      "Intervals for sample size: 100\n",
      "Confidence intervals for smokers: [75.24090799579916, 88.28259200420085]\n",
      "Confidence intervals for non-smokers: [76.22315686816677, 87.43217646516658]\n",
      "\n",
      "Wald Test with alpha = 0.05\n",
      "H0: theta = 0\n",
      "H1: theta != 0\n",
      "Test statistic: 3.23524\n",
      "3.235237046103606 > ? 1.959963984540054\n",
      "Rejected: True\n",
      "P value: 0.00122\n",
      "\n",
      "\n",
      "Intervals for sample size: 500\n",
      "Confidence intervals for smokers: [81.60310698649451, 87.83782324606358]\n",
      "Confidence intervals for non-smokers: [79.01715852016854, 83.95329762018234]\n"
     ]
    }
   ],
   "source": [
    "non_smokers_avg = df[df[\"Smoking_History\"] == 'No']['Weight_(kg)'].mean()\n",
    "smokers_avg = df[df[\"Smoking_History\"] == 'Yes']['Weight_(kg)'].mean()\n",
    "parts_abc(smokers_avg,non_smokers_avg)"
   ],
   "metadata": {
    "collapsed": false,
    "pycharm": {
     "name": "#%%\n"
    },
    "ExecuteTime": {
     "end_time": "2023-08-17T13:46:54.891832421Z",
     "start_time": "2023-08-17T13:46:54.809269354Z"
    }
   }
  },
  {
   "cell_type": "markdown",
   "source": [
    "we can notice that the confidence intervals are much larger with smaller sample sizes, but we seem to begin\n",
    "converging as the sample sizes increase"
   ],
   "metadata": {
    "collapsed": false,
    "pycharm": {
     "name": "#%% md\n"
    }
   }
  },
  {
   "cell_type": "markdown",
   "source": [
    "## part 3 - d"
   ],
   "metadata": {
    "collapsed": false,
    "pycharm": {
     "name": "#%% md\n"
    }
   }
  },
  {
   "cell_type": "code",
   "execution_count": 146,
   "outputs": [
    {
     "data": {
      "text/plain": "<Figure size 1200x800 with 8 Axes>",
      "image/png": "[encoded data removed]"
     },
     "metadata": {},
     "output_type": "display_data"
    },
    {
     "data": {
      "text/plain": "<Figure size 1200x800 with 4 Axes>",
      "image/png": "[encoded data removed]"
     },
     "metadata": {},
     "output_type": "display_data"
    },
    {
     "name": "stdout",
     "output_type": "stream",
     "text": [
      "Percentage of intervals that the smokers average was within the interval: 90.5%\n",
      "Percentage of intervals that the non-smokers average was within the interval: 94.5%\n"
     ]
    }
   ],
   "source": [
    "parts_abc(smokers_avg,non_smokers_avg,part_d=True)"
   ],
   "metadata": {
    "collapsed": false,
    "pycharm": {
     "name": "#%%\n"
    },
    "ExecuteTime": {
     "end_time": "2023-08-17T13:47:00.186440483Z",
     "start_time": "2023-08-17T13:46:56.504548578Z"
    }
   }
  },
  {
   "cell_type": "markdown",
   "source": [
    "### Conclusions"
   ],
   "metadata": {
    "collapsed": false,
    "pycharm": {
     "name": "#%% md\n"
    }
   }
  },
  {
   "cell_type": "markdown",
   "source": [
    "we can notice that the confidence intervals are much larger with smaller sample sizes, and in most cases, we can\n",
    "reject the null hypothesis with at least 95% certainty"
   ],
   "metadata": {
    "collapsed": false,
    "pycharm": {
     "name": "#%% md\n"
    }
   }
  }
 ],
 "metadata": {
  "kernelspec": {
   "display_name": "Python 3",
   "language": "python",
   "name": "python3"
  },
  "language_info": {
   "codemirror_mode": {
    "name": "ipython",
    "version": 2
   },
   "file_extension": ".py",
   "mimetype": "text/x-python",
   "name": "python",
   "nbconvert_exporter": "python",
   "pygments_lexer": "ipython2",
   "version": "2.7.6"
  }
 },
 "nbformat": 4,
 "nbformat_minor": 0
}