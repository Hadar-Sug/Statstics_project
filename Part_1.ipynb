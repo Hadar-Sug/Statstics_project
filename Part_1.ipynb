{
 "cells": [
  {
   "cell_type": "code",
   "execution_count": 2,
   "outputs": [],
   "source": [
    "import matplotlib.pyplot as plt\n"
   ],
   "metadata": {
    "collapsed": false,
    "pycharm": {
     "name": "#%%\n"
    }
   }
  },
  {
   "cell_type": "code",
   "execution_count": 15,
   "outputs": [],
   "source": [
    "def plot_numerical(col,col_name, chart=\"hist\", num_bins=10):\n",
    "    if chart == \"hist\":\n",
    "        plt.figure(figsize=(10, 6))\n",
    "        plt.hist(col, bins=num_bins, color='skyblue', edgecolor='black')\n",
    "        plt.title(f'Histogram of {col_name}')\n",
    "        plt.xticks(col)\n",
    "        plt.xlabel(col_name)\n",
    "        plt.ylabel('Frequency')\n",
    "        plt.show()\n",
    "    elif chart == \"box\":\n",
    "        plt.figure(figsize=(10, 6))\n",
    "        plt.boxplot(col, vert=False)\n",
    "        plt.title(f'Box Plot of {col_name}')\n",
    "        plt.xlabel(col_name)\n",
    "        plt.ylabel(\"all\")\n",
    "        plt.grid(True)\n",
    "        plt.show()"
   ],
   "metadata": {
    "collapsed": false,
    "pycharm": {
     "name": "#%%\n"
    }
   }
  },
  {
   "cell_type": "code",
   "execution_count": 21,
   "outputs": [],
   "source": [
    "def plot_categorical(col, col_name, X_labels=None):\n",
    "    plt.figure(figsize=(10, 6))\n",
    "    if X_labels:\n",
    "        plt.bar(X_labels, col)\n",
    "    else:\n",
    "        plt.bar(range(len(col)), col)\n",
    "    plt.title(f'Bar Plot of {col_name}')\n",
    "    plt.xlabel(col_name)\n",
    "    plt.ylabel('Value')\n",
    "    plt.show()"
   ],
   "metadata": {
    "collapsed": false,
    "pycharm": {
     "name": "#%%\n"
    }
   }
  },
  {
   "cell_type": "code",
   "execution_count": null,
   "outputs": [],
   "source": [],
   "metadata": {
    "collapsed": false,
    "pycharm": {
     "name": "#%%\n"
    }
   }
  }
 ],
 "metadata": {
  "kernelspec": {
   "display_name": "Python 3",
   "language": "python",
   "name": "python3"
  },
  "language_info": {
   "codemirror_mode": {
    "name": "ipython",
    "version": 2
   },
   "file_extension": ".py",
   "mimetype": "text/x-python",
   "name": "python",
   "nbconvert_exporter": "python",
   "pygments_lexer": "ipython2",
   "version": "2.7.6"
  }
 },
 "nbformat": 4,
 "nbformat_minor": 0
}